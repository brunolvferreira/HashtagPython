{
 "cells": [
  {
   "cell_type": "markdown",
   "id": "2b04bbea",
   "metadata": {},
   "source": [
    "# Strings\n",
    "\n",
    "<span style=\"color: red;\"><b>Todos os exercícios são feitos partindo-se do pressuposto de que todas as entradas são dadas de forma correta. Casos limite não mencionados no enunciado não são abordados porque não fazem parte do exercício.</b></span>"
   ]
  },
  {
   "cell_type": "markdown",
   "id": "5b1f33b9",
   "metadata": {},
   "source": [
    "#### 1. Tamanho de strings. Faça um programa que leia 2 strings e informe o conteúdo delas seguido do seu comprimento. Informe também se as duas strings possuem o mesmo comprimento e são iguais ou diferentes no conteúdo.\n",
    "<pre>\n",
    "Compara duas strings\n",
    "String 1: Brasil Hexa 2006\n",
    "String 2: Brasil! Hexa 2006!\n",
    "Tamanho de \"Brasil Hexa 2006\": 16 caracteres\n",
    "Tamanho de \"Brasil! Hexa 2006!\": 18 caracteres\n",
    "As duas strings são de tamanhos diferentes.\n",
    "As duas strings possuem conteúdo diferente.\n",
    "</pre>"
   ]
  },
  {
   "cell_type": "code",
   "execution_count": 11,
   "id": "c492b657",
   "metadata": {},
   "outputs": [
    {
     "name": "stdout",
     "output_type": "stream",
     "text": [
      "Comparador Strings\n",
      "String 1: Brasil Hexa 2006\n",
      "String 2: Brasil Hexa 2006\n",
      "String 1: \"Brasil Hexa 2006\" e possui 16 caracteres\n",
      "String 2: \"Brasil Hexa 2006\" e possui 16 caracteres\n",
      "Strings possuem a mesma quantidade de caracteres!\n",
      "As strings possuem conteúdos iguais.\n"
     ]
    }
   ],
   "source": [
    "print('Comparador Strings')\n",
    "string1 = input('String 1: ')\n",
    "string2 = input('String 2: ')\n",
    "len(string1)\n",
    "len(string2)\n",
    "\n",
    "print('String 1: \"{}\" e possui {} caracteres'.format(string1, len(string1)))\n",
    "print('String 2: \"{}\" e possui {} caracteres'.format(string2, len(string2)))\n",
    "\n",
    "if len(string1) == len(string2):\n",
    "    print('Strings possuem a mesma quantidade de caracteres!')\n",
    "else:\n",
    "    print('Strings NÃO possuem a mesma quantidade de caracteres!')\n",
    "if string1 == string2:\n",
    "    print('As strings possuem conteúdos iguais.')\n",
    "else:\n",
    "    print('As duas strings possuem conteúdo diferente.')"
   ]
  },
  {
   "cell_type": "markdown",
   "id": "c3068a53",
   "metadata": {},
   "source": [
    "#### 2. Valida e corrige número de telefone. Faça um programa que leia um número de telefone, e corrija o número no caso deste conter somente 7 dígitos, acrescentando o '3' na frente. O usuário pode informar o número com ou sem o traço separador.\n",
    "<pre>\n",
    "Valida e corrige número de telefone\n",
    "Telefone: 461-0133\n",
    "Telefone possui 7 dígitos. Vou acrescentar o digito três na frente.\n",
    "Telefone corrigido sem formatação: 34610133\n",
    "Telefone corrigido com formatação: 3461-0133\n",
    "</pre>"
   ]
  },
  {
   "cell_type": "code",
   "execution_count": 7,
   "id": "0308566d",
   "metadata": {},
   "outputs": [
    {
     "name": "stdout",
     "output_type": "stream",
     "text": [
      "Validador Telefônico\n",
      "Informe o telefone: 333-9987\n",
      "O telefone possui 7 dígitos, vou incluir o dígito 3 na frente do número informado.\n",
      "Telefone corrigido sem formatação: 33339987\n",
      "Telefone corrigido com formatação: 3333-9987\n"
     ]
    }
   ],
   "source": [
    "print('Validador Telefônico')\n",
    "telefone = input('Informe o telefone: ')\n",
    "telefone = telefone.strip()\n",
    "telefone = telefone.replace('-', '')\n",
    "if len(telefone) == 7:\n",
    "    print('O telefone possui 7 dígitos, vou incluir o dígito 3 na frente do número informado.')\n",
    "    telefone = '3' + telefone\n",
    "    print(f'Telefone corrigido sem formatação: {telefone}')\n",
    "    print(f'Telefone corrigido com formatação: {telefone[:4]}-{telefone[4:]}')\n",
    "else:\n",
    "    print('O telefone informado NÃO possui 7 dígitos')    "
   ]
  }
 ],
 "metadata": {
  "kernelspec": {
   "display_name": "Python 3 (ipykernel)",
   "language": "python",
   "name": "python3"
  },
  "language_info": {
   "codemirror_mode": {
    "name": "ipython",
    "version": 3
   },
   "file_extension": ".py",
   "mimetype": "text/x-python",
   "name": "python",
   "nbconvert_exporter": "python",
   "pygments_lexer": "ipython3",
   "version": "3.10.9"
  }
 },
 "nbformat": 4,
 "nbformat_minor": 5
}
