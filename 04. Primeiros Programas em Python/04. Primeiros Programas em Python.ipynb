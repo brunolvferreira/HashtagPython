{
 "cells": [
  {
   "cell_type": "markdown",
   "id": "a78a0f59",
   "metadata": {},
   "source": [
    "## 4.2 Operações Básicas\n",
    "Primeiro código Python na Hashtag"
   ]
  },
  {
   "cell_type": "code",
   "execution_count": 3,
   "id": "1f3875db",
   "metadata": {},
   "outputs": [
    {
     "name": "stdout",
     "output_type": "stream",
     "text": [
      "123\n"
     ]
    }
   ],
   "source": [
    "print(123)"
   ]
  },
  {
   "cell_type": "code",
   "execution_count": 2,
   "id": "8069da2c",
   "metadata": {},
   "outputs": [
    {
     "name": "stdout",
     "output_type": "stream",
     "text": [
      "qualquercoisa\n"
     ]
    }
   ],
   "source": [
    "print('qualquercoisa')"
   ]
  },
  {
   "cell_type": "code",
   "execution_count": 7,
   "id": "c6dcd1ef",
   "metadata": {},
   "outputs": [
    {
     "name": "stdout",
     "output_type": "stream",
     "text": [
      "2\n"
     ]
    }
   ],
   "source": [
    "print(1 + 1)"
   ]
  },
  {
   "cell_type": "code",
   "execution_count": 9,
   "id": "4dafbadc",
   "metadata": {},
   "outputs": [
    {
     "name": "stdout",
     "output_type": "stream",
     "text": [
      "1 + 1\n"
     ]
    }
   ],
   "source": [
    "print(\"1 + 1\")"
   ]
  },
  {
   "cell_type": "code",
   "execution_count": 11,
   "id": "c5e6c91e",
   "metadata": {},
   "outputs": [
    {
     "name": "stdout",
     "output_type": "stream",
     "text": [
      "6\n"
     ]
    }
   ],
   "source": [
    "print(2 * 3)"
   ]
  },
  {
   "cell_type": "code",
   "execution_count": 13,
   "id": "5cc70a4f",
   "metadata": {},
   "outputs": [
    {
     "name": "stdout",
     "output_type": "stream",
     "text": [
      "8\n"
     ]
    }
   ],
   "source": [
    "print(2 ** 3)  # potencia"
   ]
  },
  {
   "cell_type": "code",
   "execution_count": 15,
   "id": "6a13fdcf",
   "metadata": {},
   "outputs": [
    {
     "name": "stdout",
     "output_type": "stream",
     "text": [
      "0.6666666666666666\n"
     ]
    }
   ],
   "source": [
    "print(2 / 3)"
   ]
  },
  {
   "cell_type": "code",
   "execution_count": 16,
   "id": "0b610ee2",
   "metadata": {},
   "outputs": [
    {
     "name": "stdout",
     "output_type": "stream",
     "text": [
      "1\n"
     ]
    }
   ],
   "source": [
    "print(7 % 3)  # mod, resto da divisão de 7 por 3"
   ]
  },
  {
   "cell_type": "markdown",
   "id": "d3761b6a",
   "metadata": {},
   "source": [
    "## 4.3 Ordem das Operações"
   ]
  },
  {
   "cell_type": "code",
   "execution_count": 2,
   "id": "428e6804",
   "metadata": {},
   "outputs": [
    {
     "name": "stdout",
     "output_type": "stream",
     "text": [
      "5\n",
      "6\n"
     ]
    }
   ],
   "source": [
    "print(1 + 2 * 2)  # 5, prioriza a multiplicação primeiro\n",
    "\n",
    "print((1 + 2) * 2)  # 6, prioriza a soma primeiro"
   ]
  },
  {
   "cell_type": "markdown",
   "id": "6e573475",
   "metadata": {},
   "source": [
    "## 4.4 Operações com Texto"
   ]
  },
  {
   "cell_type": "code",
   "execution_count": 3,
   "id": "dfe795cf",
   "metadata": {},
   "outputs": [
    {
     "name": "stdout",
     "output_type": "stream",
     "text": [
      "meu nome é Bruno\n",
      "meu nome é Bruno\n",
      "False\n",
      "True\n"
     ]
    }
   ],
   "source": [
    "print(\"meu nome é Bruno\")\n",
    "\n",
    "print(\"meu nome é\" + \" Bruno\")  # concatenar\n",
    "\n",
    "print(\"bruno\" in \"Bruno\")  # procura Bruno no texto a frente, e é case sensitive\n",
    "\n",
    "print(\"Lira\" in \"Lira é o meu professor\")  # true"
   ]
  },
  {
   "cell_type": "markdown",
   "id": "90d51609",
   "metadata": {},
   "source": [
    "## 4.5 Variáveis"
   ]
  },
  {
   "cell_type": "code",
   "execution_count": 4,
   "id": "544bfcba",
   "metadata": {},
   "outputs": [
    {
     "name": "stdout",
     "output_type": "stream",
     "text": [
      "Bruno\n",
      "1500\n"
     ]
    }
   ],
   "source": [
    "qtdVendas = 1500  # qtdVendas recebe 1500\n",
    "nome = 'Bruno'\n",
    "\n",
    "print(nome)\n",
    "print(qtdVendas)"
   ]
  },
  {
   "cell_type": "markdown",
   "id": "998ee3ea",
   "metadata": {},
   "source": [
    "## 4.6 Erros em Variáveis"
   ]
  },
  {
   "cell_type": "code",
   "execution_count": 6,
   "id": "6f2d64c3",
   "metadata": {},
   "outputs": [],
   "source": [
    "faturamento = 100\n",
    "custo = 60"
   ]
  },
  {
   "cell_type": "code",
   "execution_count": 7,
   "id": "cd119b19",
   "metadata": {},
   "outputs": [
    {
     "name": "stdout",
     "output_type": "stream",
     "text": [
      "40\n"
     ]
    }
   ],
   "source": [
    "lucro = faturamento - custo\n",
    "print(lucro)  # no Jupyter é necessário executar o código acima antes, senão dá erro por variável não declarada"
   ]
  },
  {
   "cell_type": "markdown",
   "id": "0449653a",
   "metadata": {},
   "source": [
    "## 4.7 Input"
   ]
  },
  {
   "cell_type": "code",
   "execution_count": 8,
   "id": "d15ea383",
   "metadata": {},
   "outputs": [
    {
     "name": "stdout",
     "output_type": "stream",
     "text": [
      "Qual é o seu primeiro nome?Bruno\n",
      "Qual seu sobrenome?Luiz\n",
      "Bruno Luiz\n"
     ]
    }
   ],
   "source": [
    "nome = input('Qual é o seu primeiro nome?')  # abre uma caixa para entrada do usuário\n",
    "sobrenome = input('Qual seu sobrenome?')\n",
    "print( nome + ' ' + sobrenome)"
   ]
  },
  {
   "cell_type": "markdown",
   "id": "0d38a159",
   "metadata": {},
   "source": [
    "## 4.8 Erro Input"
   ]
  },
  {
   "cell_type": "code",
   "execution_count": 10,
   "id": "bc317862",
   "metadata": {},
   "outputs": [
    {
     "name": "stdout",
     "output_type": "stream",
     "text": [
      "Insira o faturamento da empresa 1000\n",
      "Insira o custo da empresa 300\n"
     ]
    }
   ],
   "source": [
    "faturamento = input('Insira o faturamento da empresa ')\n",
    "custo = input('Insira o custo da empresa ')"
   ]
  },
  {
   "cell_type": "markdown",
   "id": "07fc2ff1",
   "metadata": {},
   "source": [
    "## 4.12 Erro no Uso do Print\n",
    "\n",
    "#### Nunca use print com =\n",
    "print = algum_valor\n",
    "\n",
    "Isso não pode ser feito em momento algum, porque colocar o sinal de = atribui um valor ao print, que é um comando interno do Python; Fazer isso vai mudar o que o print faz e vai gerar um erro nos códigos seguintes; Caso aconteça sem querer, reinicie o Kernel para corrigir."
   ]
  },
  {
   "cell_type": "code",
   "execution_count": 11,
   "id": "d682771c",
   "metadata": {},
   "outputs": [
    {
     "name": "stdout",
     "output_type": "stream",
     "text": [
      "Texto\n"
     ]
    }
   ],
   "source": [
    "# print = \"Texto\"  # atribui o valor Texto a uma variável print e gera erro no código porque o print perde sua função\n",
    "print(\"Texto\")\n",
    "\n",
    "# Kernel > Restart  --> para corrigir o erro caso aconteça"
   ]
  }
 ],
 "metadata": {
  "kernelspec": {
   "display_name": "Python 3 (ipykernel)",
   "language": "python",
   "name": "python3"
  },
  "language_info": {
   "codemirror_mode": {
    "name": "ipython",
    "version": 3
   },
   "file_extension": ".py",
   "mimetype": "text/x-python",
   "name": "python",
   "nbconvert_exporter": "python",
   "pygments_lexer": "ipython3",
   "version": "3.11.3"
  }
 },
 "nbformat": 4,
 "nbformat_minor": 5
}
