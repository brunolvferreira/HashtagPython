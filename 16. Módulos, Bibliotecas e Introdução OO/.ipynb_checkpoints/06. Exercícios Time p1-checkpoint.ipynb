{
 "cells": [
  {
   "cell_type": "markdown",
   "metadata": {},
   "source": [
    "## Contagem regressiva\n",
    "\n",
    "Um evento especial está programado para começar em 10 segundos. Crie uma contagem regressiva que começa em 10 e vai até 0, com uma pausa de um segundo entre cada número.\n"
   ]
  },
  {
   "cell_type": "markdown",
   "metadata": {},
   "source": [
    " "
   ]
  },
  {
   "cell_type": "code",
   "execution_count": 8,
   "metadata": {},
   "outputs": [
    {
     "name": "stdout",
     "output_type": "stream",
     "text": [
      "10\n",
      "9\n",
      "8\n",
      "7\n",
      "6\n",
      "5\n",
      "4\n",
      "3\n",
      "2\n",
      "1\n",
      "O evento começou!!!\n"
     ]
    }
   ],
   "source": [
    "import time\n",
    "\n",
    "for numero in range(10, 0, -1):\n",
    "    print(numero)\n",
    "    time.sleep(1)\n",
    "print('O evento começou!!!')"
   ]
  },
  {
   "cell_type": "code",
   "execution_count": 9,
   "metadata": {},
   "outputs": [
    {
     "name": "stdout",
     "output_type": "stream",
     "text": [
      "Vai \n",
      " pular linha\n"
     ]
    }
   ],
   "source": [
    "print('Vai \\n pular linha')  # conferir documentação sobre os parâmetros do print"
   ]
  },
  {
   "cell_type": "code",
   "execution_count": 10,
   "metadata": {},
   "outputs": [
    {
     "name": "stdout",
     "output_type": "stream",
     "text": [
      "Olha \t o tab\n"
     ]
    }
   ],
   "source": [
    "print('Olha \\t o tab')"
   ]
  },
  {
   "cell_type": "code",
   "execution_count": 11,
   "metadata": {},
   "outputs": [
    {
     "name": "stdout",
     "output_type": "stream",
     "text": [
      "O evento começou!!!\n"
     ]
    }
   ],
   "source": [
    "for numero in range(10, 0, -1):\n",
    "    print(numero, end=\" \\r\")  # foi dado um espaço pela quantidade de caracteres do 10\n",
    "    time.sleep(1)\n",
    "print('O evento começou!!!')"
   ]
  },
  {
   "cell_type": "markdown",
   "metadata": {},
   "source": [
    "## Formatação de tempo\n",
    "\n",
    "Uma empresa quer exibir a data e a hora atual em seu site no formato \"Dia da semana, dia do mês de mês de ano, horas:minutos\". Crie um script Python que mostra a data e a hora atuais neste formato.\n",
    "\n"
   ]
  },
  {
   "cell_type": "code",
   "execution_count": 12,
   "metadata": {},
   "outputs": [
    {
     "name": "stdout",
     "output_type": "stream",
     "text": [
      "time.struct_time(tm_year=2023, tm_mon=7, tm_mday=31, tm_hour=11, tm_min=27, tm_sec=15, tm_wday=0, tm_yday=212, tm_isdst=0)\n"
     ]
    }
   ],
   "source": [
    "tempo_em_struc = time.localtime()\n",
    "print(tempo_em_struc)"
   ]
  },
  {
   "cell_type": "code",
   "execution_count": 19,
   "metadata": {},
   "outputs": [
    {
     "name": "stdout",
     "output_type": "stream",
     "text": [
      "segunda-feira, 31 de julho de 2023, 11:32\n"
     ]
    }
   ],
   "source": [
    "tempo_formatado = time.strftime(\"%A, %d de %B de %Y, %H:%M\", tempo_em_struc)\n",
    "print(tempo_formatado)"
   ]
  },
  {
   "cell_type": "code",
   "execution_count": 20,
   "metadata": {},
   "outputs": [
    {
     "name": "stdout",
     "output_type": "stream",
     "text": [
      "segunda-feira, 31 de julho de 2023, 11:32\n"
     ]
    }
   ],
   "source": [
    "import locale\n",
    "\n",
    "locale.setlocale(locale.LC_TIME, \"pt_BR.UTF-8\")\n",
    "\n",
    "tempo_em_struc = time.localtime()\n",
    "tempo_formatado = time.strftime(\"%A, %d de %B de %Y, %H:%M\", tempo_em_struc)\n",
    "print(tempo_formatado)"
   ]
  }
 ],
 "metadata": {
  "kernelspec": {
   "display_name": "Python 3 (ipykernel)",
   "language": "python",
   "name": "python3"
  },
  "language_info": {
   "codemirror_mode": {
    "name": "ipython",
    "version": 3
   },
   "file_extension": ".py",
   "mimetype": "text/x-python",
   "name": "python",
   "nbconvert_exporter": "python",
   "pygments_lexer": "ipython3",
   "version": "3.11.3"
  }
 },
 "nbformat": 4,
 "nbformat_minor": 4
}
