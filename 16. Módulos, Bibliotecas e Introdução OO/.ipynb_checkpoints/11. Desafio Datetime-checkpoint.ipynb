{
 "cells": [
  {
   "cell_type": "markdown",
   "metadata": {},
   "source": [
    "## Calculando a idade\n",
    "\n",
    "Um usuário fornece sua data de nascimento no formato \"dd/mm/aaaa\". Crie um script Python que calcula a idade do usuário.\n"
   ]
  },
  {
   "cell_type": "code",
   "execution_count": 17,
   "metadata": {},
   "outputs": [
    {
     "name": "stdout",
     "output_type": "stream",
     "text": [
      "Informe sua data de nascimento (dd/mm/aaaa): 03/08/2000\n",
      "Data informada: 03/08/2000\n",
      "Data de hoje: 2023-08-02 09:03:05.385503\n"
     ]
    }
   ],
   "source": [
    "from datetime import datetime\n",
    "\n",
    "nascimento = input('Informe sua data de nascimento (dd/mm/aaaa): ')\n",
    "hoje = datetime.now()\n",
    "\n",
    "print(f'Data informada: {nascimento}')\n",
    "print(f'Data de hoje: {hoje}')"
   ]
  },
  {
   "cell_type": "code",
   "execution_count": 18,
   "metadata": {},
   "outputs": [
    {
     "name": "stdout",
     "output_type": "stream",
     "text": [
      "2000-08-03 00:00:00\n"
     ]
    }
   ],
   "source": [
    "# convertendo o input para datetime\n",
    "nascimento = datetime.strptime(nascimento, \"%d/%m/%Y\")\n",
    "print(nascimento)"
   ]
  },
  {
   "cell_type": "code",
   "execution_count": 19,
   "metadata": {},
   "outputs": [
    {
     "name": "stdout",
     "output_type": "stream",
     "text": [
      "23\n"
     ]
    }
   ],
   "source": [
    "# não é o mais correto/preciso, mas é o mais simples\n",
    "idade = hoje.year - nascimento.year\n",
    "print(idade)"
   ]
  },
  {
   "cell_type": "code",
   "execution_count": 20,
   "metadata": {},
   "outputs": [],
   "source": [
    "# desmembrando a data em variáveis isoladas\n",
    "ano_atual = hoje.year\n",
    "mes_atual = hoje.month\n",
    "dia_atual = hoje.day\n",
    "\n",
    "ano_nascimento = nascimento.year\n",
    "mes_nascimento = nascimento.month\n",
    "dia_nascimento = nascimento.day"
   ]
  },
  {
   "cell_type": "code",
   "execution_count": 21,
   "metadata": {},
   "outputs": [],
   "source": [
    "if mes_nascimento > mes_atual:  # se o mês do nascimento é maior que o mês atual\n",
    "    idade -= 1\n",
    "elif mes_nascimento == mes_atual and dia_nascimento > dia_atual:  # se o mês é igual mas dia nascimento é maior que o dia atual\n",
    "    idade -= 1"
   ]
  },
  {
   "cell_type": "code",
   "execution_count": 22,
   "metadata": {},
   "outputs": [
    {
     "name": "stdout",
     "output_type": "stream",
     "text": [
      "22\n"
     ]
    }
   ],
   "source": [
    "print(idade)"
   ]
  }
 ],
 "metadata": {
  "kernelspec": {
   "display_name": "Python 3 (ipykernel)",
   "language": "python",
   "name": "python3"
  },
  "language_info": {
   "codemirror_mode": {
    "name": "ipython",
    "version": 3
   },
   "file_extension": ".py",
   "mimetype": "text/x-python",
   "name": "python",
   "nbconvert_exporter": "python",
   "pygments_lexer": "ipython3",
   "version": "3.11.3"
  }
 },
 "nbformat": 4,
 "nbformat_minor": 4
}
