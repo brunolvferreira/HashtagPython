{
 "cells": [
  {
   "cell_type": "markdown",
   "metadata": {},
   "source": [
    "## Oferecendo desconto para cliente com base na última compra\n",
    "\n",
    "Suponha que você está trabalhando para uma empresa que deseja rastrear a atividade do cliente. Uma métrica que eles estão interessados é o tempo que passou desde a última transação do cliente. Se for muito tempo, eles podem oferecer um desconto para o cliente. Crie um script Python que mostra quanto tempo se passou desde a última compra do cliente. Se faz mais de 30 dias, mostre uma mensagem oferecendo um desconto para o cliente."
   ]
  },
  {
   "cell_type": "code",
   "execution_count": 1,
   "metadata": {},
   "outputs": [],
   "source": [
    "from datetime import datetime\n",
    "\n",
    "ultima_compra = datetime(2023, 5, 10)\n",
    "data_atual = datetime.now()"
   ]
  },
  {
   "cell_type": "code",
   "execution_count": 2,
   "metadata": {},
   "outputs": [
    {
     "name": "stdout",
     "output_type": "stream",
     "text": [
      "2023-05-10 00:00:00\n",
      "2023-08-02 08:28:43.824272\n"
     ]
    }
   ],
   "source": [
    "print(ultima_compra)\n",
    "print(data_atual)"
   ]
  },
  {
   "cell_type": "code",
   "execution_count": 4,
   "metadata": {},
   "outputs": [
    {
     "name": "stdout",
     "output_type": "stream",
     "text": [
      "84\n"
     ]
    }
   ],
   "source": [
    "diferenca = data_atual - ultima_compra\n",
    "print(diferenca.days)"
   ]
  },
  {
   "cell_type": "code",
   "execution_count": 5,
   "metadata": {},
   "outputs": [
    {
     "name": "stdout",
     "output_type": "stream",
     "text": [
      "<class 'datetime.timedelta'>\n"
     ]
    }
   ],
   "source": [
    "print(type(diferenca))"
   ]
  },
  {
   "cell_type": "code",
   "execution_count": 6,
   "metadata": {},
   "outputs": [
    {
     "name": "stdout",
     "output_type": "stream",
     "text": [
      "Parabéns, você ganhou um desconto!\n"
     ]
    }
   ],
   "source": [
    "if diferenca.days > 30:\n",
    "    print('Parabéns, você ganhou um desconto!')"
   ]
  },
  {
   "cell_type": "markdown",
   "metadata": {},
   "source": [
    "## Data e hora em diferentes fusos horários\n",
    "\n",
    "Uma empresa tem escritórios em São Paulo, Nova York e Tóquio. Crie um script Python que mostra a data e hora atuais nesses três fusos horários. Exiba, também, se estes escritórios estão abertos ou fechados (9h às 17h).\n"
   ]
  },
  {
   "cell_type": "code",
   "execution_count": 8,
   "metadata": {},
   "outputs": [
    {
     "name": "stdout",
     "output_type": "stream",
     "text": [
      "2023-08-02 08:34:05.053511\n"
     ]
    }
   ],
   "source": [
    "from datetime import datetime\n",
    "from zoneinfo import ZoneInfo\n",
    "\n",
    "data_atual = datetime.now()\n",
    "print(data_atual)"
   ]
  },
  {
   "cell_type": "code",
   "execution_count": 9,
   "metadata": {},
   "outputs": [
    {
     "name": "stdout",
     "output_type": "stream",
     "text": [
      "Data/hora em São Paulo: 2023-08-02 08:34:05.053511-03:00\n",
      "Data/hora em New York: 2023-08-02 07:34:05.053511-04:00\n",
      "Data/hora em Tokyo: 2023-08-02 20:34:05.053511+09:00\n"
     ]
    }
   ],
   "source": [
    "# definindo fuso horário de cada cidade\n",
    "fuso_sp = ZoneInfo('America/Sao_Paulo')\n",
    "fuso_ny = ZoneInfo('America/New_York')\n",
    "fuso_tk = ZoneInfo('Asia/Tokyo')\n",
    "\n",
    "# definido a data/hora de cada cidade\n",
    "data_sp = data_atual.astimezone(fuso_sp)\n",
    "data_ny = data_atual.astimezone(fuso_ny)\n",
    "data_tk = data_atual.astimezone(fuso_tk)\n",
    "\n",
    "# exibindo a data/hora em cada cidade\n",
    "print(f'Data/hora em São Paulo: {data_sp}')\n",
    "print(f'Data/hora em New York: {data_ny}')\n",
    "print(f'Data/hora em Tokyo: {data_tk}')"
   ]
  },
  {
   "cell_type": "code",
   "execution_count": 12,
   "metadata": {},
   "outputs": [
    {
     "name": "stdout",
     "output_type": "stream",
     "text": [
      "Escritório de São Paulo está fechado.\n",
      "Escritório de New York está fechado.\n",
      "Escritório de Tokyo está fechado.\n"
     ]
    }
   ],
   "source": [
    "# verificando se os escritórios estão abertos ou fechados\n",
    "def aberto_fechado(data_hora):\n",
    "    if 9<= data_hora.hour < 17:  # hora da variável data_hora\n",
    "        return \"aberto\"\n",
    "    else:\n",
    "        return \"fechado\"\n",
    "\n",
    "print(f'Escritório de São Paulo está {aberto_fechado(data_sp)}.')\n",
    "print(f'Escritório de New York está {aberto_fechado(data_ny)}.')\n",
    "print(f'Escritório de Tokyo está {aberto_fechado(data_tk)}.')"
   ]
  }
 ],
 "metadata": {
  "kernelspec": {
   "display_name": "Python 3 (ipykernel)",
   "language": "python",
   "name": "python3"
  },
  "language_info": {
   "codemirror_mode": {
    "name": "ipython",
    "version": 3
   },
   "file_extension": ".py",
   "mimetype": "text/x-python",
   "name": "python",
   "nbconvert_exporter": "python",
   "pygments_lexer": "ipython3",
   "version": "3.11.3"
  }
 },
 "nbformat": 4,
 "nbformat_minor": 4
}
