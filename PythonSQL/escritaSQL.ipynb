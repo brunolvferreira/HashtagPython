{
 "cells": [
  {
   "cell_type": "markdown",
   "metadata": {},
   "source": [
    "Configurações iniciais no Jupyter"
   ]
  },
  {
   "cell_type": "code",
   "execution_count": null,
   "metadata": {},
   "outputs": [],
   "source": [
    "# instalando a biblioteca PyODBC\n",
    "pip install pyodbc"
   ]
  },
  {
   "cell_type": "code",
   "execution_count": 3,
   "metadata": {},
   "outputs": [
    {
     "name": "stdout",
     "output_type": "stream",
     "text": [
      "Conexão bem sucedida!\n"
     ]
    }
   ],
   "source": [
    "import pyodbc\n",
    "\n",
    "# realizando a conexão com o banco de dados\n",
    "dados_conexao = (\n",
    "    \"Driver={SQL Server};\"\n",
    "    \"Server=Book3;\"  # nome do computador ou IP do servidor. Foi descoberto pelo CMD > hostname\n",
    "    \"Database=PythonSQL;\"  # nome do banco de dados a ser utilizado\n",
    ")\n",
    "\n",
    "conexao = pyodbc.connect(dados_conexao)\n",
    "print(\"Conexão bem sucedida!\")"
   ]
  },
  {
   "cell_type": "markdown",
   "metadata": {},
   "source": [
    "Adicionando os comandos em SQL dentro do Jupyter"
   ]
  },
  {
   "cell_type": "code",
   "execution_count": 5,
   "metadata": {},
   "outputs": [],
   "source": [
    "# adicionando comandos em SQL dentro do Jupyter\n",
    "cursor = conexao.cursor()\n",
    "\n",
    "#comando para executar código em SQL\n",
    "comando = \"\"\"insert into Vendas(id_venda, data_venda, cliente, produto, preco, quantidade) values\n",
    "\t(2, '10/05/2022', 'Bruno', 'Notebook', 3500, 2)\"\"\"  # entre 3 aspas para passar o código como texto\n",
    "\n",
    "cursor.execute(comando)\n",
    "cursor.commit()  # comando para efetivar uma transação no banco de dados"
   ]
  },
  {
   "cell_type": "code",
   "execution_count": 6,
   "metadata": {},
   "outputs": [],
   "source": [
    "cursor = conexao.cursor()\n",
    "\n",
    "#comando para executar código em SQL\n",
    "comando = \"\"\"insert into Vendas(id_venda, data_venda, cliente, produto, preco, quantidade) values\n",
    "\t(3, '12/05/2022', 'Daniela', 'iPad', 2500, 1)\"\"\"  # entre 3 aspas para passar o código como texto\n",
    "\n",
    "cursor.execute(comando)\n",
    "cursor.commit()  # comando para efetivar uma transação no banco de dados"
   ]
  },
  {
   "cell_type": "markdown",
   "metadata": {},
   "source": [
    "Tornando o cadastro de dados automático por meio de Variáveis"
   ]
  },
  {
   "cell_type": "code",
   "execution_count": 7,
   "metadata": {},
   "outputs": [],
   "source": [
    "cursor = conexao.cursor()\n",
    "\n",
    "# declarando variáveis\n",
    "id = 4\n",
    "data = '17/06/2022'\n",
    "cliente = 'Cintia'\n",
    "produto = 'TV'\n",
    "preco = 1500\n",
    "quantidade = 1\n",
    "\n",
    "#comando para executar código em SQL\n",
    "comando = f\"\"\"insert into Vendas(id_venda, data_venda, cliente, produto, preco, quantidade) values\n",
    "\t({id}, '{data}', '{cliente}', '{produto}', {preco}, {quantidade})\"\"\"  # f antes do comando e variáveis entre chaves\n",
    "    # variáveis com valor em texto precisam de aspas simples além das chaves\n",
    "\n",
    "cursor.execute(comando)\n",
    "cursor.commit()  # comando para efetivar uma transação no banco de dados"
   ]
  }
 ],
 "metadata": {
  "kernelspec": {
   "display_name": "base",
   "language": "python",
   "name": "python3"
  },
  "language_info": {
   "codemirror_mode": {
    "name": "ipython",
    "version": 3
   },
   "file_extension": ".py",
   "mimetype": "text/x-python",
   "name": "python",
   "nbconvert_exporter": "python",
   "pygments_lexer": "ipython3",
   "version": "3.11.5"
  }
 },
 "nbformat": 4,
 "nbformat_minor": 2
}
