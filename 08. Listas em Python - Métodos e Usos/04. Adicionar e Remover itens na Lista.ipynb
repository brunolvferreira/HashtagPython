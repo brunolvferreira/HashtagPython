{
 "cells": [
  {
   "cell_type": "markdown",
   "metadata": {
    "id": "F3c3-QPrkkC_"
   },
   "source": [
    "# Adicionar e Remover itens de uma lista\n",
    "\n",
    "Adicionar:<br>\n",
    "lista.append(item)\n",
    "\n",
    "Remover:<br>\n",
    "item_removido = lista.pop(indice)<br>\n",
    "lista.remove(item)\n",
    "\n",
    "Digamos que você está construindo o controle de produtos da Apple.<br>\n",
    "E a Apple lançou o IPhone 11 e irá tirar dos seus estoques o IPhone X"
   ]
  },
  {
   "cell_type": "code",
   "execution_count": 1,
   "metadata": {
    "colab": {
     "base_uri": "https://localhost:8080/"
    },
    "executionInfo": {
     "elapsed": 11,
     "status": "ok",
     "timestamp": 1692797234768,
     "user": {
      "displayName": "Bruno L. V. Ferreira",
      "userId": "01907818823726200963"
     },
     "user_tz": 180
    },
    "id": "3qLDB-VNkkDF",
    "outputId": "e2675fc6-5380-4732-924f-1ebb8095f961"
   },
   "outputs": [
    {
     "name": "stdout",
     "output_type": "stream",
     "text": [
      "['apple tv', 'mac', 'iphone x', 'IPad', 'apple watch', 'mac book', 'airpods']\n",
      "['apple tv', 'mac', 'iphone 11', 'IPad', 'apple watch', 'mac book', 'airpods']\n",
      "['apple tv', 'mac', 'iphone 11', 'IPad', 'apple watch', 'mac book', 'airpods', 'iphone 13']\n",
      "['apple tv', 'mac', 'IPad', 'apple watch', 'mac book', 'airpods', 'iphone 13']\n",
      "['apple tv', 'IPad', 'apple watch', 'mac book', 'airpods', 'iphone 13']\n",
      "iphonex não existe na lista de produtos\n"
     ]
    }
   ],
   "source": [
    "produtos = ['apple tv', 'mac', 'iphone x', 'IPad', 'apple watch', 'mac book', 'airpods']\n",
    "print(produtos)\n",
    "\n",
    "# substituir iphone x por iphone 11\n",
    "produtos[2] = 'iphone 11'\n",
    "print(produtos)\n",
    "\n",
    "# adicionar o iphone 13\n",
    "produtos.append('iphone 13')\n",
    "print(produtos)\n",
    "\n",
    "# remover o iphone 11\n",
    "produtos.remove('iphone 11')\n",
    "print(produtos)\n",
    "\n",
    "# remover iphone x\n",
    "# produtos.pop(2)\n",
    "# print(produtos)\n",
    "\n",
    "# item_removido = produtos.pop(2)\n",
    "# print('Removemos o {} da lista'.format(item_removido))\n",
    "\n",
    "produto_remover = 'iphonex'\n",
    "if produto_remover in produtos:\n",
    "    produtos.remove('iphonex')\n",
    "else:\n",
    "    print('{} não existe na lista de produtos'.format(produto_remover))"
   ]
  },
  {
   "cell_type": "markdown",
   "metadata": {
    "id": "5tIkZrQvkkDH"
   },
   "source": [
    "## Existem 2 formas de tratar o erro:\n",
    "\n",
    "1. Criar um if para evitar que ele aconteça\n",
    "\n",
    "2. Esperar que ele possa acontecer e tratar caso o erro aconteça com:"
   ]
  },
  {
   "cell_type": "raw",
   "metadata": {
    "id": "kkc3i9OckkDH"
   },
   "source": [
    "try:\n",
    "    tentar fazer\n",
    "except:\n",
    "    caso dê errado"
   ]
  },
  {
   "cell_type": "code",
   "execution_count": null,
   "metadata": {
    "id": "60ag7k4YkkDI"
   },
   "outputs": [],
   "source": [
    "try:\n",
    "    produtos.remove('iphonex')\n",
    "    print(produtos)\n",
    "except:\n",
    "    pass"
   ]
  }
 ],
 "metadata": {
  "colab": {
   "provenance": []
  },
  "kernelspec": {
   "display_name": "Python 3 (ipykernel)",
   "language": "python",
   "name": "python3"
  },
  "language_info": {
   "codemirror_mode": {
    "name": "ipython",
    "version": 3
   },
   "file_extension": ".py",
   "mimetype": "text/x-python",
   "name": "python",
   "nbconvert_exporter": "python",
   "pygments_lexer": "ipython3",
   "version": "3.11.3"
  }
 },
 "nbformat": 4,
 "nbformat_minor": 1
}
