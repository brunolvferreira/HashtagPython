{
 "cells": [
  {
   "cell_type": "markdown",
   "metadata": {},
   "source": [
    "# Exercícios\n",
    "\n",
    "## 1. Input até o usuário parar\n",
    "\n",
    "Vamos criar um sistema de vendas. Nosso programa deve registrar os produtos e as quantidades (2 inputs) e adicionar em uma lista.\n",
    "\n",
    "O programa deve continuar rodando até o input ser vazio, ou seja, o usuário apertar enter sem digitar nenhum produto ou quantidade.\n",
    "\n",
    "Ao final do programa, ele deve printar todos os produtos e quantidades vendidas.\n",
    "\n",
    "Obs: Caso queira, para o print ficar mais visual, pode usar o join para cada item ser printado em uma linha.\n",
    "Sugestão para sua lista de produtos vendidos:"
   ]
  },
  {
   "cell_type": "raw",
   "metadata": {},
   "source": [
    "vendas = [\n",
    "    ['maçã', 5],\n",
    "    ['banana', 15],\n",
    "    ['azeite', 1],\n",
    "    ['vinho', 3],\n",
    "]"
   ]
  },
  {
   "cell_type": "code",
   "execution_count": 6,
   "metadata": {},
   "outputs": [
    {
     "name": "stdout",
     "output_type": "stream",
     "text": [
      "Qual o produto? laranja\n",
      "Qual a quantidade? 10\n",
      "Qual o produto? maça\n",
      "Qual a quantidade? 5\n",
      "Qual o produto? vinho 2\n",
      "Qual a quantidade? 2\n",
      "Qual o produto? \n",
      "[['laranja', 10], ['maça', 5], ['vinho 2', 2]]\n"
     ]
    }
   ],
   "source": [
    "#seu código aqui\n",
    "vendas = []\n",
    "\n",
    "while True:\n",
    "    produto = input('Qual o produto? ')\n",
    "    if not produto:  # se não preencheu produto\n",
    "        break\n",
    "    qtd = int(input('Qual a quantidade? '))  # determinando que o resultado do input será convertido para int\n",
    "    vendas.append([produto, qtd])\n",
    "    \n",
    "print(vendas)"
   ]
  },
  {
   "cell_type": "code",
   "execution_count": 7,
   "metadata": {},
   "outputs": [
    {
     "name": "stdout",
     "output_type": "stream",
     "text": [
      "Qual o produto? laranja\n",
      "Qual a quantidade? 10\n",
      "Qual o produto? vinho\n",
      "Qual a quantidade? 5\n",
      "Qual o produto? pera\n",
      "Qual a quantidade? 10\n",
      "Qual o produto? \n",
      "[['laranja', 10], ['vinho', 5], ['pera', 10]]\n"
     ]
    }
   ],
   "source": [
    "# Outra forma de código\n",
    "\n",
    "vendas = []\n",
    "produto = input('Qual o produto? ')\n",
    "qtd = int(input('Qual a quantidade? '))\n",
    "\n",
    "while produto:\n",
    "    vendas.append([produto, qtd])\n",
    "    produto = input('Qual o produto? ')\n",
    "    if not produto:\n",
    "        break\n",
    "    qtd = int(input('Qual a quantidade? '))\n",
    "\n",
    "print(vendas)"
   ]
  },
  {
   "cell_type": "markdown",
   "metadata": {},
   "source": [
    "### Obs: Podemos fazer o While de 2 maneiras:\n",
    "\n",
    "1. While com a condição que finalize o programa\n",
    "2. While rodando para sempre, mas com uma condição dentro do while que dê um break no código.\n",
    "\n",
    "Vamos mostrar as 2 opções"
   ]
  }
 ],
 "metadata": {
  "kernelspec": {
   "display_name": "Python 3 (ipykernel)",
   "language": "python",
   "name": "python3"
  },
  "language_info": {
   "codemirror_mode": {
    "name": "ipython",
    "version": 3
   },
   "file_extension": ".py",
   "mimetype": "text/x-python",
   "name": "python",
   "nbconvert_exporter": "python",
   "pygments_lexer": "ipython3",
   "version": "3.11.3"
  }
 },
 "nbformat": 4,
 "nbformat_minor": 4
}
