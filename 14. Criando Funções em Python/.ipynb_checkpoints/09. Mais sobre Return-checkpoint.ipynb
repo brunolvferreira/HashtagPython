{
 "cells": [
  {
   "cell_type": "markdown",
   "metadata": {},
   "source": [
    "# Mais sobre o return\n",
    "\n",
    "### Pontos importantes:\n",
    "\n",
    "- Podemos usar no return praticamente qualquer tipo de objeto: (número, string, lista, tupla, dicionário, outros objetos, etc.)\n",
    "- O return, se for executado, encerra a função, mesmo que dentro dela haja um loop."
   ]
  },
  {
   "cell_type": "code",
   "execution_count": 14,
   "metadata": {},
   "outputs": [],
   "source": [
    "#retornar um número\n",
    "def minha_soma(num1, num2, num3):\n",
    "    return num1 + num2 + num3\n",
    "\n",
    "#retornar um texto\n",
    "def padronizar_texto(texto):\n",
    "    texto = texto.casefold()\n",
    "    texto = texto.replace(\"  \", \" \")\n",
    "    texto = texto.strip()\n",
    "    return texto\n",
    "\n",
    "#retornar um boolean\n",
    "def bateu_meta(vendas, meta):\n",
    "    if vendas >= meta:\n",
    "        return True\n",
    "    else:\n",
    "        return False\n",
    "    \n",
    "#retornar uma lista, tupla ou dicionario\n",
    "def filtrar_lista_texto(lista, pedaco_texto):\n",
    "    lista_filtrada = []\n",
    "    for item in lista:\n",
    "        if pedaco_texto in item:\n",
    "            lista_filtrada.append(item)\n",
    "    return lista_filtrada  # atenção para identação"
   ]
  },
  {
   "cell_type": "code",
   "execution_count": 18,
   "metadata": {},
   "outputs": [
    {
     "name": "stdout",
     "output_type": "stream",
     "text": [
      "Não bateu a meta.\n",
      "['bruno@hotmail.com', 'cida@hotmail.com']\n"
     ]
    }
   ],
   "source": [
    "vendas_jose = 500\n",
    "meta = 1150\n",
    "\n",
    "if bateu_meta(vendas_jose, meta):\n",
    "    print('José bateu a meta.')\n",
    "else:\n",
    "    print('Não bateu a meta.')\n",
    "    \n",
    "\n",
    "lista_textos = ['caio@gmail.com', 'bruno@hotmail.com', 'carol@gmail.com', 'cida@hotmail.com']\n",
    "lista = filtrar_lista_texto(lista_textos, 'hotmail')\n",
    "print(lista)"
   ]
  }
 ],
 "metadata": {
  "kernelspec": {
   "display_name": "Python 3 (ipykernel)",
   "language": "python",
   "name": "python3"
  },
  "language_info": {
   "codemirror_mode": {
    "name": "ipython",
    "version": 3
   },
   "file_extension": ".py",
   "mimetype": "text/x-python",
   "name": "python",
   "nbconvert_exporter": "python",
   "pygments_lexer": "ipython3",
   "version": "3.11.3"
  }
 },
 "nbformat": 4,
 "nbformat_minor": 4
}
